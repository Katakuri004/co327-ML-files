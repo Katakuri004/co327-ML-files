{
  "nbformat": 4,
  "nbformat_minor": 0,
  "metadata": {
    "colab": {
      "provenance": []
    },
    "kernelspec": {
      "name": "python3",
      "display_name": "Python 3"
    },
    "language_info": {
      "name": "python"
    }
  },
  "cells": [
    {
      "cell_type": "code",
      "source": [
        "import pandas as pd\n",
        "import numpy as np"
      ],
      "metadata": {
        "id": "GgDIvuiHv2G9"
      },
      "execution_count": 14,
      "outputs": []
    },
    {
      "cell_type": "code",
      "source": [
        "data = {\n",
        "    'Outlook': ['Sunny', 'Sunny', 'Overcast', 'Rain', 'Rain', 'Rain', 'Overcast', 'Sunny', 'Sunny', 'Rain', 'Sunny', 'Overcast', 'Overcast', 'Rain'],\n",
        "    'Temperature': ['Hot', 'Hot', 'Hot', 'Mild', 'Cool', 'Cool', 'Cool', 'Mild', 'Cool', 'Mild', 'Mild', 'Mild', 'Hot', 'Mild'],\n",
        "    'Humidity': ['High', 'High', 'High', 'High', 'Normal', 'Normal', 'Normal', 'High', 'Normal', 'Normal', 'Normal', 'High', 'Normal', 'High'],\n",
        "    'Wind': ['Weak', 'Strong', 'Weak', 'Weak', 'Weak', 'Strong', 'Strong', 'Weak', 'Weak', 'Weak', 'Strong', 'Strong', 'Weak', 'Strong'],\n",
        "    'PlayTennis': ['No', 'No', 'Yes', 'Yes', 'Yes', 'No', 'Yes', 'No', 'Yes', 'Yes', 'Yes', 'Yes', 'Yes', 'No']\n",
        "}\n",
        "\n",
        "df = pd.DataFrame(data)\n",
        "print(\"Dataset:\")\n",
        "print(df)"
      ],
      "metadata": {
        "colab": {
          "base_uri": "https://localhost:8080/"
        },
        "id": "P9YYs1N_v8BB",
        "outputId": "01cbf59d-cb35-4e03-cd7d-12704a4b08be"
      },
      "execution_count": 15,
      "outputs": [
        {
          "output_type": "stream",
          "name": "stdout",
          "text": [
            "Dataset:\n",
            "     Outlook Temperature Humidity    Wind PlayTennis\n",
            "0      Sunny         Hot     High    Weak         No\n",
            "1      Sunny         Hot     High  Strong         No\n",
            "2   Overcast         Hot     High    Weak        Yes\n",
            "3       Rain        Mild     High    Weak        Yes\n",
            "4       Rain        Cool   Normal    Weak        Yes\n",
            "5       Rain        Cool   Normal  Strong         No\n",
            "6   Overcast        Cool   Normal  Strong        Yes\n",
            "7      Sunny        Mild     High    Weak         No\n",
            "8      Sunny        Cool   Normal    Weak        Yes\n",
            "9       Rain        Mild   Normal    Weak        Yes\n",
            "10     Sunny        Mild   Normal  Strong        Yes\n",
            "11  Overcast        Mild     High  Strong        Yes\n",
            "12  Overcast         Hot   Normal    Weak        Yes\n",
            "13      Rain        Mild     High  Strong         No\n"
          ]
        }
      ]
    },
    {
      "cell_type": "code",
      "source": [
        "def calculate_entropy(target_col):\n",
        "    elements, counts = np.unique(target_col, return_counts=True)\n",
        "    entropy = np.sum([(-counts[i]/np.sum(counts)) * np.log2(counts[i]/np.sum(counts)) for i in range(len(elements))])\n",
        "    return entropy"
      ],
      "metadata": {
        "id": "znLUVJaVv929"
      },
      "execution_count": 16,
      "outputs": []
    },
    {
      "cell_type": "code",
      "source": [
        "def calculate_information_gain(data, split_attribute_name, target_name):\n",
        "    total_entropy = calculate_entropy(data[target_name])\n",
        "\n",
        "    vals, counts = np.unique(data[split_attribute_name], return_counts=True)\n",
        "\n",
        "    weighted_entropy = np.sum([(counts[i]/np.sum(counts)) * calculate_entropy(data.where(data[split_attribute_name]==vals[i]).dropna()[target_name]) for i in range(len(vals))])\n",
        "\n",
        "    information_gain = total_entropy - weighted_entropy\n",
        "    return information_gain"
      ],
      "metadata": {
        "id": "V3ZR2y2gv_vQ"
      },
      "execution_count": 17,
      "outputs": []
    },
    {
      "cell_type": "code",
      "source": [
        "def id3(data, original_data, features, target_attribute_name, parent_node_class=None):\n",
        "    # Base case 1: If all target values are the same, return this value\n",
        "    if len(np.unique(data[target_attribute_name])) <= 1:\n",
        "        return np.unique(data[target_attribute_name])[0]\n",
        "\n",
        "    # Base case 2: If the dataset is empty, return the majority class of the original dataset\n",
        "    elif len(data) == 0:\n",
        "        return np.unique(original_data[target_attribute_name])[np.argmax(np.unique(original_data[target_attribute_name], return_counts=True)[1])]\n",
        "\n",
        "    # Base case 3: If the feature space is empty, return the majority class of the parent node\n",
        "    elif len(features) == 0:\n",
        "        return parent_node_class\n",
        "\n",
        "    # If none of the above, construct the tree\n",
        "    else:\n",
        "        # Set the default parent node class to the majority class of the current dataset\n",
        "        parent_node_class = np.unique(data[target_attribute_name])[np.argmax(np.unique(data[target_attribute_name], return_counts=True)[1])]\n",
        "\n",
        "        # Select the feature that best splits the dataset\n",
        "        item_values = [calculate_information_gain(data, feature, target_attribute_name) for feature in features]\n",
        "        best_feature_index = np.argmax(item_values)\n",
        "        best_feature = features[best_feature_index]\n",
        "\n",
        "        # Create the tree structure as a dictionary\n",
        "        tree = {best_feature: {}}\n",
        "\n",
        "        # Remove the feature with the best info gain from the feature space\n",
        "        features = [i for i in features if i != best_feature]\n",
        "\n",
        "        # Grow a branch for each value in the best feature\n",
        "        for value in np.unique(data[best_feature]):\n",
        "            sub_data = data.where(data[best_feature] == value).dropna()\n",
        "\n",
        "            # Recursive call to ID3\n",
        "            subtree = id3(sub_data, data, features, target_attribute_name, parent_node_class)\n",
        "            tree[best_feature][value] = subtree\n",
        "\n",
        "        return tree"
      ],
      "metadata": {
        "id": "19sQbaQqwBQ0"
      },
      "execution_count": 18,
      "outputs": []
    },
    {
      "cell_type": "code",
      "source": [
        "def predict(query, tree, default=\"Unknown\"):\n",
        "    for key in list(query.keys()):\n",
        "        if key in list(tree.keys()):\n",
        "            try:\n",
        "                result = tree[key][query[key]]\n",
        "            except:\n",
        "                return default\n",
        "\n",
        "            result = tree[key][query[key]]\n",
        "            if isinstance(result, dict):\n",
        "                return predict(query, result)\n",
        "            else:\n",
        "                return result"
      ],
      "metadata": {
        "id": "xjiYl3k-wDM5"
      },
      "execution_count": 19,
      "outputs": []
    },
    {
      "cell_type": "code",
      "source": [
        "# --- Training ---\n",
        "features = [col for col in df.columns if col != 'PlayTennis']\n",
        "target = 'PlayTennis'\n",
        "decision_tree = id3(df, df, features, target)\n",
        "\n",
        "# --- Print the Tree ---\n",
        "import pprint\n",
        "print(\"Generated Decision Tree:\")\n",
        "pprint.pprint(decision_tree)\n",
        "\n",
        "# --- Prediction ---\n",
        "new_query = {'Outlook': 'Sunny', 'Temperature': 'Hot', 'Humidity': 'Normal', 'Wind': 'Weak'}\n",
        "prediction = predict(new_query, decision_tree)\n",
        "\n",
        "print(f\"\\nPrediction for {new_query}: PlayTennis = {prediction}\")\n",
        "\n",
        "# --- Test with another query ---\n",
        "new_query_2 = {'Outlook': 'Rain', 'Temperature': 'Mild', 'Humidity': 'High', 'Wind': 'Strong'}\n",
        "prediction_2 = predict(new_query_2, decision_tree)\n",
        "\n",
        "print(f\"Prediction for {new_query_2}: PlayTennis = {prediction_2}\")"
      ],
      "metadata": {
        "colab": {
          "base_uri": "https://localhost:8080/"
        },
        "id": "_1XY9ySbwEyD",
        "outputId": "7b66e56f-1016-4a7b-b20f-2b183574d738"
      },
      "execution_count": 20,
      "outputs": [
        {
          "output_type": "stream",
          "name": "stdout",
          "text": [
            "Generated Decision Tree:\n",
            "{'Outlook': {'Overcast': 'Yes',\n",
            "             'Rain': {'Wind': {'Strong': 'No', 'Weak': 'Yes'}},\n",
            "             'Sunny': {'Humidity': {'High': 'No', 'Normal': 'Yes'}}}}\n",
            "\n",
            "Prediction for {'Outlook': 'Sunny', 'Temperature': 'Hot', 'Humidity': 'Normal', 'Wind': 'Weak'}: PlayTennis = Yes\n",
            "Prediction for {'Outlook': 'Rain', 'Temperature': 'Mild', 'Humidity': 'High', 'Wind': 'Strong'}: PlayTennis = No\n"
          ]
        }
      ]
    },
    {
      "cell_type": "code",
      "source": [
        "!pip install graphviz"
      ],
      "metadata": {
        "colab": {
          "base_uri": "https://localhost:8080/"
        },
        "id": "eV0KAnOhwOHt",
        "outputId": "37581a95-c208-4e0f-c4ac-8e7238d8debd"
      },
      "execution_count": 21,
      "outputs": [
        {
          "output_type": "stream",
          "name": "stdout",
          "text": [
            "Requirement already satisfied: graphviz in /usr/local/lib/python3.12/dist-packages (0.21)\n"
          ]
        }
      ]
    },
    {
      "cell_type": "code",
      "source": [
        "import graphviz\n",
        "from IPython.display import display"
      ],
      "metadata": {
        "id": "cUJtDcBPwQ1F"
      },
      "execution_count": 22,
      "outputs": []
    },
    {
      "cell_type": "code",
      "source": [
        "node_counter = 0\n",
        "\n",
        "def add_nodes_edges(tree, dot=None, parent_name=None, edge_label=\"\"):\n",
        "    global node_counter\n",
        "    if dot is None:\n",
        "        dot = graphviz.Digraph()\n",
        "        dot.attr('node', shape='box', style='rounded', fontname='helvetica')\n",
        "        dot.attr('edge', fontname='helvetica')\n",
        "\n",
        "    if isinstance(tree, dict):\n",
        "        # It's a decision node\n",
        "        for key, val in tree.items():\n",
        "            # Create a unique node name for the attribute\n",
        "            current_node_name = f\"node{node_counter}\"\n",
        "            node_counter += 1\n",
        "            # Add the decision node to the graph\n",
        "            dot.node(current_node_name, label=key)\n",
        "\n",
        "            # If it's not the root, draw an edge from its parent\n",
        "            if parent_name is not None:\n",
        "                dot.edge(parent_name, current_node_name, label=edge_label)\n",
        "\n",
        "            # Recurse for the subtree\n",
        "            add_nodes_edges(val, dot=dot, parent_name=current_node_name)\n",
        "    else:\n",
        "        # It's a leaf node\n",
        "        # Create a unique node name for the leaf\n",
        "        current_node_name = f\"node{node_counter}\"\n",
        "        node_counter += 1\n",
        "        # Add the leaf node to the graph with a different shape\n",
        "        dot.node(current_node_name, label=str(tree), shape='ellipse')\n",
        "\n",
        "        # Draw an edge from its parent\n",
        "        if parent_name is not None:\n",
        "            dot.edge(parent_name, current_node_name, label=edge_label)\n",
        "\n",
        "    return dot\n",
        "\n",
        "def visualize_tree(tree):\n",
        "    \"\"\"\n",
        "    Creates and displays a visualization of the decision tree.\n",
        "    \"\"\"\n",
        "    global node_counter\n",
        "    node_counter = 0 # Reset counter for each new visualization\n",
        "    graph = add_nodes_edges(tree)\n",
        "    return graph"
      ],
      "metadata": {
        "id": "7Oc-nr5TwTX6"
      },
      "execution_count": 23,
      "outputs": []
    },
    {
      "cell_type": "code",
      "source": [
        "# --- Generate the graph object ---\n",
        "tree_graph = visualize_tree(decision_tree)\n",
        "\n",
        "# --- Display the graph in the Colab output ---\n",
        "print(\"Decision Tree Visualization:\")\n",
        "display(tree_graph)"
      ],
      "metadata": {
        "colab": {
          "base_uri": "https://localhost:8080/",
          "height": 483
        },
        "id": "pvdhJAOqwVO0",
        "outputId": "82f664a9-a443-4c95-c17a-647916377fc1"
      },
      "execution_count": 24,
      "outputs": [
        {
          "output_type": "stream",
          "name": "stdout",
          "text": [
            "Decision Tree Visualization:\n"
          ]
        },
        {
          "output_type": "display_data",
          "data": {
            "image/svg+xml": "<?xml version=\"1.0\" encoding=\"UTF-8\" standalone=\"no\"?>\n<!DOCTYPE svg PUBLIC \"-//W3C//DTD SVG 1.1//EN\"\n \"http://www.w3.org/Graphics/SVG/1.1/DTD/svg11.dtd\">\n<!-- Generated by graphviz version 2.43.0 (0)\n -->\n<!-- Title: %3 Pages: 1 -->\n<svg width=\"307pt\" height=\"332pt\"\n viewBox=\"0.00 0.00 307.00 332.00\" xmlns=\"http://www.w3.org/2000/svg\" xmlns:xlink=\"http://www.w3.org/1999/xlink\">\n<g id=\"graph0\" class=\"graph\" transform=\"scale(1 1) rotate(0) translate(4 328)\">\n<title>%3</title>\n<polygon fill=\"white\" stroke=\"transparent\" points=\"-4,4 -4,-328 303,-328 303,4 -4,4\"/>\n<!-- node0 -->\n<g id=\"node1\" class=\"node\">\n<title>node0</title>\n<path fill=\"none\" stroke=\"black\" d=\"M136.5,-324C136.5,-324 96.5,-324 96.5,-324 90.5,-324 84.5,-318 84.5,-312 84.5,-312 84.5,-300 84.5,-300 84.5,-294 90.5,-288 96.5,-288 96.5,-288 136.5,-288 136.5,-288 142.5,-288 148.5,-294 148.5,-300 148.5,-300 148.5,-312 148.5,-312 148.5,-318 142.5,-324 136.5,-324\"/>\n<text text-anchor=\"middle\" x=\"116.5\" y=\"-302.3\" font-family=\"Helvetica,sans-Serif\" font-size=\"14.00\">Outlook</text>\n</g>\n<!-- node1 -->\n<g id=\"node2\" class=\"node\">\n<title>node1</title>\n<path fill=\"none\" stroke=\"black\" d=\"M59,-252C59,-252 12,-252 12,-252 6,-252 0,-246 0,-240 0,-240 0,-228 0,-228 0,-222 6,-216 12,-216 12,-216 59,-216 59,-216 65,-216 71,-222 71,-228 71,-228 71,-240 71,-240 71,-246 65,-252 59,-252\"/>\n<text text-anchor=\"middle\" x=\"35.5\" y=\"-230.3\" font-family=\"Helvetica,sans-Serif\" font-size=\"14.00\">Overcast</text>\n</g>\n<!-- node0&#45;&gt;node1 -->\n<g id=\"edge1\" class=\"edge\">\n<title>node0&#45;&gt;node1</title>\n<path fill=\"none\" stroke=\"black\" d=\"M96.48,-287.7C86.37,-278.97 73.96,-268.24 62.98,-258.75\"/>\n<polygon fill=\"black\" stroke=\"black\" points=\"65.15,-255.99 55.29,-252.1 60.57,-261.29 65.15,-255.99\"/>\n</g>\n<!-- node3 -->\n<g id=\"node4\" class=\"node\">\n<title>node3</title>\n<path fill=\"none\" stroke=\"black\" d=\"M131.5,-252C131.5,-252 101.5,-252 101.5,-252 95.5,-252 89.5,-246 89.5,-240 89.5,-240 89.5,-228 89.5,-228 89.5,-222 95.5,-216 101.5,-216 101.5,-216 131.5,-216 131.5,-216 137.5,-216 143.5,-222 143.5,-228 143.5,-228 143.5,-240 143.5,-240 143.5,-246 137.5,-252 131.5,-252\"/>\n<text text-anchor=\"middle\" x=\"116.5\" y=\"-230.3\" font-family=\"Helvetica,sans-Serif\" font-size=\"14.00\">Rain</text>\n</g>\n<!-- node0&#45;&gt;node3 -->\n<g id=\"edge3\" class=\"edge\">\n<title>node0&#45;&gt;node3</title>\n<path fill=\"none\" stroke=\"black\" d=\"M116.5,-287.7C116.5,-279.98 116.5,-270.71 116.5,-262.11\"/>\n<polygon fill=\"black\" stroke=\"black\" points=\"120,-262.1 116.5,-252.1 113,-262.1 120,-262.1\"/>\n</g>\n<!-- node9 -->\n<g id=\"node10\" class=\"node\">\n<title>node9</title>\n<path fill=\"none\" stroke=\"black\" d=\"M208,-252C208,-252 177,-252 177,-252 171,-252 165,-246 165,-240 165,-240 165,-228 165,-228 165,-222 171,-216 177,-216 177,-216 208,-216 208,-216 214,-216 220,-222 220,-228 220,-228 220,-240 220,-240 220,-246 214,-252 208,-252\"/>\n<text text-anchor=\"middle\" x=\"192.5\" y=\"-230.3\" font-family=\"Helvetica,sans-Serif\" font-size=\"14.00\">Sunny</text>\n</g>\n<!-- node0&#45;&gt;node9 -->\n<g id=\"edge9\" class=\"edge\">\n<title>node0&#45;&gt;node9</title>\n<path fill=\"none\" stroke=\"black\" d=\"M135.29,-287.7C144.67,-279.05 156.18,-268.45 166.41,-259.03\"/>\n<polygon fill=\"black\" stroke=\"black\" points=\"168.95,-261.45 173.93,-252.1 164.2,-256.3 168.95,-261.45\"/>\n</g>\n<!-- node2 -->\n<g id=\"node3\" class=\"node\">\n<title>node2</title>\n<ellipse fill=\"none\" stroke=\"black\" cx=\"35.5\" cy=\"-162\" rx=\"27\" ry=\"18\"/>\n<text text-anchor=\"middle\" x=\"35.5\" y=\"-158.3\" font-family=\"Helvetica,sans-Serif\" font-size=\"14.00\">Yes</text>\n</g>\n<!-- node1&#45;&gt;node2 -->\n<g id=\"edge2\" class=\"edge\">\n<title>node1&#45;&gt;node2</title>\n<path fill=\"none\" stroke=\"black\" d=\"M35.5,-215.7C35.5,-207.98 35.5,-198.71 35.5,-190.11\"/>\n<polygon fill=\"black\" stroke=\"black\" points=\"39,-190.1 35.5,-180.1 32,-190.1 39,-190.1\"/>\n</g>\n<!-- node4 -->\n<g id=\"node5\" class=\"node\">\n<title>node4</title>\n<path fill=\"none\" stroke=\"black\" d=\"M129.5,-180C129.5,-180 99.5,-180 99.5,-180 93.5,-180 87.5,-174 87.5,-168 87.5,-168 87.5,-156 87.5,-156 87.5,-150 93.5,-144 99.5,-144 99.5,-144 129.5,-144 129.5,-144 135.5,-144 141.5,-150 141.5,-156 141.5,-156 141.5,-168 141.5,-168 141.5,-174 135.5,-180 129.5,-180\"/>\n<text text-anchor=\"middle\" x=\"114.5\" y=\"-158.3\" font-family=\"Helvetica,sans-Serif\" font-size=\"14.00\">Wind</text>\n</g>\n<!-- node3&#45;&gt;node4 -->\n<g id=\"edge4\" class=\"edge\">\n<title>node3&#45;&gt;node4</title>\n<path fill=\"none\" stroke=\"black\" d=\"M116.01,-215.7C115.79,-207.98 115.52,-198.71 115.27,-190.11\"/>\n<polygon fill=\"black\" stroke=\"black\" points=\"118.77,-190 114.99,-180.1 111.78,-190.2 118.77,-190\"/>\n</g>\n<!-- node5 -->\n<g id=\"node6\" class=\"node\">\n<title>node5</title>\n<path fill=\"none\" stroke=\"black\" d=\"M59.5,-108C59.5,-108 27.5,-108 27.5,-108 21.5,-108 15.5,-102 15.5,-96 15.5,-96 15.5,-84 15.5,-84 15.5,-78 21.5,-72 27.5,-72 27.5,-72 59.5,-72 59.5,-72 65.5,-72 71.5,-78 71.5,-84 71.5,-84 71.5,-96 71.5,-96 71.5,-102 65.5,-108 59.5,-108\"/>\n<text text-anchor=\"middle\" x=\"43.5\" y=\"-86.3\" font-family=\"Helvetica,sans-Serif\" font-size=\"14.00\">Strong</text>\n</g>\n<!-- node4&#45;&gt;node5 -->\n<g id=\"edge5\" class=\"edge\">\n<title>node4&#45;&gt;node5</title>\n<path fill=\"none\" stroke=\"black\" d=\"M96.95,-143.7C88.27,-135.14 77.64,-124.66 68.15,-115.3\"/>\n<polygon fill=\"black\" stroke=\"black\" points=\"70.43,-112.63 60.85,-108.1 65.51,-117.62 70.43,-112.63\"/>\n</g>\n<!-- node7 -->\n<g id=\"node8\" class=\"node\">\n<title>node7</title>\n<path fill=\"none\" stroke=\"black\" d=\"M131.5,-108C131.5,-108 101.5,-108 101.5,-108 95.5,-108 89.5,-102 89.5,-96 89.5,-96 89.5,-84 89.5,-84 89.5,-78 95.5,-72 101.5,-72 101.5,-72 131.5,-72 131.5,-72 137.5,-72 143.5,-78 143.5,-84 143.5,-84 143.5,-96 143.5,-96 143.5,-102 137.5,-108 131.5,-108\"/>\n<text text-anchor=\"middle\" x=\"116.5\" y=\"-86.3\" font-family=\"Helvetica,sans-Serif\" font-size=\"14.00\">Weak</text>\n</g>\n<!-- node4&#45;&gt;node7 -->\n<g id=\"edge7\" class=\"edge\">\n<title>node4&#45;&gt;node7</title>\n<path fill=\"none\" stroke=\"black\" d=\"M114.99,-143.7C115.21,-135.98 115.48,-126.71 115.73,-118.11\"/>\n<polygon fill=\"black\" stroke=\"black\" points=\"119.22,-118.2 116.01,-108.1 112.23,-118 119.22,-118.2\"/>\n</g>\n<!-- node6 -->\n<g id=\"node7\" class=\"node\">\n<title>node6</title>\n<ellipse fill=\"none\" stroke=\"black\" cx=\"43.5\" cy=\"-18\" rx=\"27\" ry=\"18\"/>\n<text text-anchor=\"middle\" x=\"43.5\" y=\"-14.3\" font-family=\"Helvetica,sans-Serif\" font-size=\"14.00\">No</text>\n</g>\n<!-- node5&#45;&gt;node6 -->\n<g id=\"edge6\" class=\"edge\">\n<title>node5&#45;&gt;node6</title>\n<path fill=\"none\" stroke=\"black\" d=\"M43.5,-71.7C43.5,-63.98 43.5,-54.71 43.5,-46.11\"/>\n<polygon fill=\"black\" stroke=\"black\" points=\"47,-46.1 43.5,-36.1 40,-46.1 47,-46.1\"/>\n</g>\n<!-- node8 -->\n<g id=\"node9\" class=\"node\">\n<title>node8</title>\n<ellipse fill=\"none\" stroke=\"black\" cx=\"116.5\" cy=\"-18\" rx=\"27\" ry=\"18\"/>\n<text text-anchor=\"middle\" x=\"116.5\" y=\"-14.3\" font-family=\"Helvetica,sans-Serif\" font-size=\"14.00\">Yes</text>\n</g>\n<!-- node7&#45;&gt;node8 -->\n<g id=\"edge8\" class=\"edge\">\n<title>node7&#45;&gt;node8</title>\n<path fill=\"none\" stroke=\"black\" d=\"M116.5,-71.7C116.5,-63.98 116.5,-54.71 116.5,-46.11\"/>\n<polygon fill=\"black\" stroke=\"black\" points=\"120,-46.1 116.5,-36.1 113,-46.1 120,-46.1\"/>\n</g>\n<!-- node10 -->\n<g id=\"node11\" class=\"node\">\n<title>node10</title>\n<path fill=\"none\" stroke=\"black\" d=\"M217.5,-180C217.5,-180 171.5,-180 171.5,-180 165.5,-180 159.5,-174 159.5,-168 159.5,-168 159.5,-156 159.5,-156 159.5,-150 165.5,-144 171.5,-144 171.5,-144 217.5,-144 217.5,-144 223.5,-144 229.5,-150 229.5,-156 229.5,-156 229.5,-168 229.5,-168 229.5,-174 223.5,-180 217.5,-180\"/>\n<text text-anchor=\"middle\" x=\"194.5\" y=\"-158.3\" font-family=\"Helvetica,sans-Serif\" font-size=\"14.00\">Humidity</text>\n</g>\n<!-- node9&#45;&gt;node10 -->\n<g id=\"edge10\" class=\"edge\">\n<title>node9&#45;&gt;node10</title>\n<path fill=\"none\" stroke=\"black\" d=\"M192.99,-215.7C193.21,-207.98 193.48,-198.71 193.73,-190.11\"/>\n<polygon fill=\"black\" stroke=\"black\" points=\"197.22,-190.2 194.01,-180.1 190.23,-190 197.22,-190.2\"/>\n</g>\n<!-- node11 -->\n<g id=\"node12\" class=\"node\">\n<title>node11</title>\n<path fill=\"none\" stroke=\"black\" d=\"M207.5,-108C207.5,-108 177.5,-108 177.5,-108 171.5,-108 165.5,-102 165.5,-96 165.5,-96 165.5,-84 165.5,-84 165.5,-78 171.5,-72 177.5,-72 177.5,-72 207.5,-72 207.5,-72 213.5,-72 219.5,-78 219.5,-84 219.5,-84 219.5,-96 219.5,-96 219.5,-102 213.5,-108 207.5,-108\"/>\n<text text-anchor=\"middle\" x=\"192.5\" y=\"-86.3\" font-family=\"Helvetica,sans-Serif\" font-size=\"14.00\">High</text>\n</g>\n<!-- node10&#45;&gt;node11 -->\n<g id=\"edge11\" class=\"edge\">\n<title>node10&#45;&gt;node11</title>\n<path fill=\"none\" stroke=\"black\" d=\"M194.01,-143.7C193.79,-135.98 193.52,-126.71 193.27,-118.11\"/>\n<polygon fill=\"black\" stroke=\"black\" points=\"196.77,-118 192.99,-108.1 189.78,-118.2 196.77,-118\"/>\n</g>\n<!-- node13 -->\n<g id=\"node14\" class=\"node\">\n<title>node13</title>\n<path fill=\"none\" stroke=\"black\" d=\"M287,-108C287,-108 250,-108 250,-108 244,-108 238,-102 238,-96 238,-96 238,-84 238,-84 238,-78 244,-72 250,-72 250,-72 287,-72 287,-72 293,-72 299,-78 299,-84 299,-84 299,-96 299,-96 299,-102 293,-108 287,-108\"/>\n<text text-anchor=\"middle\" x=\"268.5\" y=\"-86.3\" font-family=\"Helvetica,sans-Serif\" font-size=\"14.00\">Normal</text>\n</g>\n<!-- node10&#45;&gt;node13 -->\n<g id=\"edge13\" class=\"edge\">\n<title>node10&#45;&gt;node13</title>\n<path fill=\"none\" stroke=\"black\" d=\"M212.79,-143.7C221.93,-135.05 233.14,-124.45 243.1,-115.03\"/>\n<polygon fill=\"black\" stroke=\"black\" points=\"245.56,-117.52 250.42,-108.1 240.75,-112.43 245.56,-117.52\"/>\n</g>\n<!-- node12 -->\n<g id=\"node13\" class=\"node\">\n<title>node12</title>\n<ellipse fill=\"none\" stroke=\"black\" cx=\"192.5\" cy=\"-18\" rx=\"27\" ry=\"18\"/>\n<text text-anchor=\"middle\" x=\"192.5\" y=\"-14.3\" font-family=\"Helvetica,sans-Serif\" font-size=\"14.00\">No</text>\n</g>\n<!-- node11&#45;&gt;node12 -->\n<g id=\"edge12\" class=\"edge\">\n<title>node11&#45;&gt;node12</title>\n<path fill=\"none\" stroke=\"black\" d=\"M192.5,-71.7C192.5,-63.98 192.5,-54.71 192.5,-46.11\"/>\n<polygon fill=\"black\" stroke=\"black\" points=\"196,-46.1 192.5,-36.1 189,-46.1 196,-46.1\"/>\n</g>\n<!-- node14 -->\n<g id=\"node15\" class=\"node\">\n<title>node14</title>\n<ellipse fill=\"none\" stroke=\"black\" cx=\"268.5\" cy=\"-18\" rx=\"27\" ry=\"18\"/>\n<text text-anchor=\"middle\" x=\"268.5\" y=\"-14.3\" font-family=\"Helvetica,sans-Serif\" font-size=\"14.00\">Yes</text>\n</g>\n<!-- node13&#45;&gt;node14 -->\n<g id=\"edge14\" class=\"edge\">\n<title>node13&#45;&gt;node14</title>\n<path fill=\"none\" stroke=\"black\" d=\"M268.5,-71.7C268.5,-63.98 268.5,-54.71 268.5,-46.11\"/>\n<polygon fill=\"black\" stroke=\"black\" points=\"272,-46.1 268.5,-36.1 265,-46.1 272,-46.1\"/>\n</g>\n</g>\n</svg>\n",
            "text/plain": [
              "<graphviz.graphs.Digraph at 0x7d663437d700>"
            ]
          },
          "metadata": {}
        }
      ]
    },
    {
      "cell_type": "markdown",
      "source": [
        "## EXPERIMENT-7 : DECISION TREE USING CART ALGO"
      ],
      "metadata": {
        "id": "-sneyAoIwpCK"
      }
    },
    {
      "cell_type": "code",
      "source": [
        "def calculate_gini(rows):\n",
        "    counts = Counter(row[-1] for row in rows)\n",
        "    impurity = 1\n",
        "    for lbl in counts:\n",
        "        prob_of_lbl = counts[lbl] / float(len(rows))\n",
        "        impurity -= prob_of_lbl**2\n",
        "    return impurity"
      ],
      "metadata": {
        "id": "NQ5lS6hkwtzM"
      },
      "execution_count": 25,
      "outputs": []
    },
    {
      "cell_type": "code",
      "source": [
        "class Question:\n",
        "    def __init__(self, column, values):\n",
        "        self.column = column\n",
        "        self.values = values\n",
        "\n",
        "    def match(self, example):\n",
        "        val = example[self.column]\n",
        "        return val in self.values\n",
        "\n",
        "    def __repr__(self):\n",
        "        return f\"Is {header[self.column]} in {str(self.values)}?\"\n",
        "\n",
        "class Leaf:\n",
        "    def __init__(self, rows):\n",
        "        self.predictions = Counter(row[-1] for row in rows)\n",
        "\n",
        "class Decision_Node:\n",
        "    def __init__(self, question, true_branch, false_branch):\n",
        "        self.question = question\n",
        "        self.true_branch = true_branch\n",
        "        self.false_branch = false_branch"
      ],
      "metadata": {
        "id": "3CGI78uzwvvQ"
      },
      "execution_count": 26,
      "outputs": []
    },
    {
      "cell_type": "markdown",
      "source": [
        "For each attribute, it finds the best binary partition (e.g., for 'Outlook', it checks splits like {'Sunny'} vs {'Overcast', 'Rain'}) by calculating the Gini Gain for each possibility. It then returns the split that provides the most information."
      ],
      "metadata": {
        "id": "2lhgnYRwwzmT"
      }
    },
    {
      "cell_type": "code",
      "source": [
        "def partition(rows, question):\n",
        "    true_rows, false_rows = [], []\n",
        "    for row in rows:\n",
        "        if question.match(row):\n",
        "            true_rows.append(row)\n",
        "        else:\n",
        "            false_rows.append(row)\n",
        "    return true_rows, false_rows\n",
        "\n",
        "def find_best_split(rows):\n",
        "    best_gain = 0\n",
        "    best_question = None\n",
        "    current_uncertainty = calculate_gini(rows)\n",
        "    n_features = len(rows[0]) - 1\n",
        "\n",
        "    for col in range(n_features):\n",
        "        values = set(row[col] for row in rows)\n",
        "\n",
        "        # Generate all non-empty proper subsets for binary splits\n",
        "        if len(values) > 1:\n",
        "            for i in range(1, len(values) // 2 + 1):\n",
        "                for subset in combinations(values, i):\n",
        "                    question = Question(col, set(subset))\n",
        "\n",
        "                    true_rows, false_rows = partition(rows, question)\n",
        "                    if len(true_rows) == 0 or len(false_rows) == 0:\n",
        "                        continue\n",
        "\n",
        "                    p = float(len(true_rows)) / len(rows)\n",
        "                    gain = current_uncertainty - p * calculate_gini(true_rows) - (1 - p) * calculate_gini(false_rows)\n",
        "\n",
        "                    if gain >= best_gain:\n",
        "                        best_gain, best_question = gain, question\n",
        "\n",
        "    return best_gain, best_question"
      ],
      "metadata": {
        "id": "uGTvHJ7SwxPJ"
      },
      "execution_count": 27,
      "outputs": []
    },
    {
      "cell_type": "code",
      "source": [
        "def build_tree(rows):\n",
        "    gain, question = find_best_split(rows)\n",
        "\n",
        "    if gain == 0:\n",
        "        return Leaf(rows)\n",
        "\n",
        "    true_rows, false_rows = partition(rows, question)\n",
        "\n",
        "    true_branch = build_tree(true_rows)\n",
        "    false_branch = build_tree(false_rows)\n",
        "\n",
        "    return Decision_Node(question, true_branch, false_branch)"
      ],
      "metadata": {
        "id": "BLFE83aZw1Fi"
      },
      "execution_count": 28,
      "outputs": []
    },
    {
      "cell_type": "code",
      "source": [
        "\n",
        "\n",
        "node_counter_cart = 0\n",
        "\n",
        "def add_cart_nodes_edges(tree, dot=None):\n",
        "    global node_counter_cart\n",
        "    if dot is None:\n",
        "        dot = graphviz.Digraph()\n",
        "        dot.attr('node', shape='box', style='rounded', fontname='helvetica')\n",
        "        dot.attr('edge', fontname='helvetica')\n",
        "\n",
        "    node_id = str(node_counter_cart)\n",
        "    node_counter_cart += 1\n",
        "\n",
        "    if isinstance(tree, Leaf):\n",
        "        # It's a leaf node\n",
        "        label = \"\\n\".join([f\"{k}: {v}\" for k, v in tree.predictions.items()])\n",
        "        dot.node(node_id, label=label, shape='ellipse')\n",
        "        return node_id\n",
        "\n",
        "    # It's a decision node\n",
        "    dot.node(node_id, label=str(tree.question))\n",
        "\n",
        "    # Recurse for true branch\n",
        "    true_child_id = add_cart_nodes_edges(tree.true_branch, dot)\n",
        "    dot.edge(node_id, true_child_id, label=\"True\")\n",
        "\n",
        "    # Recurse for false branch\n",
        "    false_child_id = add_cart_nodes_edges(tree.false_branch, dot)\n",
        "    dot.edge(node_id, false_child_id, label=\"False\")\n",
        "\n",
        "    return node_id\n",
        "\n",
        "def visualize_cart_tree(tree):\n",
        "    global node_counter_cart\n",
        "    node_counter_cart = 0\n",
        "    dot = graphviz.Digraph(comment='CART Decision Tree')\n",
        "    add_cart_nodes_edges(tree, dot)\n",
        "    return dot"
      ],
      "metadata": {
        "id": "MSVL9Eugw1W1"
      },
      "execution_count": 30,
      "outputs": []
    },
    {
      "cell_type": "code",
      "source": [
        "from collections import Counter\n",
        "from itertools import combinations"
      ],
      "metadata": {
        "id": "VuL40qBdw44V"
      },
      "execution_count": 34,
      "outputs": []
    },
    {
      "cell_type": "code",
      "source": [
        "# --- Prepare data and train tree ---\n",
        "header = list(df.columns)\n",
        "training_data = df.values.tolist()\n",
        "cart_tree = build_tree(training_data)\n",
        "\n",
        "# --- Generate the graph object ---\n",
        "cart_graph = visualize_cart_tree(cart_tree)\n",
        "\n",
        "# --- Display the graph in the Colab output ---\n",
        "print(\"CART Decision Tree Visualization:\")\n",
        "display(cart_graph)"
      ],
      "metadata": {
        "colab": {
          "base_uri": "https://localhost:8080/",
          "height": 563
        },
        "id": "I9B2AzfKw2bl",
        "outputId": "120bbebd-3bae-4d5a-cd81-add3725396a4"
      },
      "execution_count": 35,
      "outputs": [
        {
          "output_type": "stream",
          "name": "stdout",
          "text": [
            "CART Decision Tree Visualization:\n"
          ]
        },
        {
          "output_type": "display_data",
          "data": {
            "image/svg+xml": "<?xml version=\"1.0\" encoding=\"UTF-8\" standalone=\"no\"?>\n<!DOCTYPE svg PUBLIC \"-//W3C//DTD SVG 1.1//EN\"\n \"http://www.w3.org/Graphics/SVG/1.1/DTD/svg11.dtd\">\n<!-- Generated by graphviz version 2.43.0 (0)\n -->\n<!-- Title: %3 Pages: 1 -->\n<svg width=\"584pt\" height=\"392pt\"\n viewBox=\"0.00 0.00 583.94 392.00\" xmlns=\"http://www.w3.org/2000/svg\" xmlns:xlink=\"http://www.w3.org/1999/xlink\">\n<g id=\"graph0\" class=\"graph\" transform=\"scale(1 1) rotate(0) translate(4 388)\">\n<title>%3</title>\n<polygon fill=\"white\" stroke=\"transparent\" points=\"-4,4 -4,-388 579.94,-388 579.94,4 -4,4\"/>\n<!-- 0 -->\n<g id=\"node1\" class=\"node\">\n<title>0</title>\n<ellipse fill=\"none\" stroke=\"black\" cx=\"143.15\" cy=\"-366\" rx=\"106.68\" ry=\"18\"/>\n<text text-anchor=\"middle\" x=\"143.15\" y=\"-362.3\" font-family=\"Times,serif\" font-size=\"14.00\">Is Outlook in {&#39;Overcast&#39;}?</text>\n</g>\n<!-- 1 -->\n<g id=\"node2\" class=\"node\">\n<title>1</title>\n<ellipse fill=\"none\" stroke=\"black\" cx=\"119.15\" cy=\"-279\" rx=\"33.29\" ry=\"18\"/>\n<text text-anchor=\"middle\" x=\"119.15\" y=\"-275.3\" font-family=\"Times,serif\" font-size=\"14.00\">Yes: 4</text>\n</g>\n<!-- 0&#45;&gt;1 -->\n<g id=\"edge1\" class=\"edge\">\n<title>0&#45;&gt;1</title>\n<path fill=\"none\" stroke=\"black\" d=\"M138.29,-347.8C134.95,-335.97 130.45,-320.03 126.65,-306.58\"/>\n<polygon fill=\"black\" stroke=\"black\" points=\"130,-305.56 123.91,-296.89 123.26,-307.46 130,-305.56\"/>\n<text text-anchor=\"middle\" x=\"146.15\" y=\"-318.8\" font-family=\"Times,serif\" font-size=\"14.00\">True</text>\n</g>\n<!-- 2 -->\n<g id=\"node3\" class=\"node\">\n<title>2</title>\n<ellipse fill=\"none\" stroke=\"black\" cx=\"279.15\" cy=\"-279\" rx=\"108.58\" ry=\"18\"/>\n<text text-anchor=\"middle\" x=\"279.15\" y=\"-275.3\" font-family=\"Times,serif\" font-size=\"14.00\">Is Humidity in {&#39;Normal&#39;}?</text>\n</g>\n<!-- 0&#45;&gt;2 -->\n<g id=\"edge12\" class=\"edge\">\n<title>0&#45;&gt;2</title>\n<path fill=\"none\" stroke=\"black\" d=\"M169.69,-348.41C190.94,-335.13 220.92,-316.39 244.14,-301.88\"/>\n<polygon fill=\"black\" stroke=\"black\" points=\"246.04,-304.82 252.67,-296.55 242.33,-298.88 246.04,-304.82\"/>\n<text text-anchor=\"middle\" x=\"234.65\" y=\"-318.8\" font-family=\"Times,serif\" font-size=\"14.00\">False</text>\n</g>\n<!-- 3 -->\n<g id=\"node4\" class=\"node\">\n<title>3</title>\n<ellipse fill=\"none\" stroke=\"black\" cx=\"160.15\" cy=\"-192\" rx=\"85.59\" ry=\"18\"/>\n<text text-anchor=\"middle\" x=\"160.15\" y=\"-188.3\" font-family=\"Times,serif\" font-size=\"14.00\">Is Wind in {&#39;Weak&#39;}?</text>\n</g>\n<!-- 2&#45;&gt;3 -->\n<g id=\"edge6\" class=\"edge\">\n<title>2&#45;&gt;3</title>\n<path fill=\"none\" stroke=\"black\" d=\"M255.92,-261.41C237.57,-248.3 211.79,-229.88 191.59,-215.46\"/>\n<polygon fill=\"black\" stroke=\"black\" points=\"193.49,-212.51 183.32,-209.55 189.42,-218.21 193.49,-212.51\"/>\n<text text-anchor=\"middle\" x=\"240.15\" y=\"-231.8\" font-family=\"Times,serif\" font-size=\"14.00\">True</text>\n</g>\n<!-- 8 -->\n<g id=\"node9\" class=\"node\">\n<title>8</title>\n<ellipse fill=\"none\" stroke=\"black\" cx=\"362.15\" cy=\"-192\" rx=\"98.28\" ry=\"18\"/>\n<text text-anchor=\"middle\" x=\"362.15\" y=\"-188.3\" font-family=\"Times,serif\" font-size=\"14.00\">Is Outlook in {&#39;Sunny&#39;}?</text>\n</g>\n<!-- 2&#45;&gt;8 -->\n<g id=\"edge11\" class=\"edge\">\n<title>2&#45;&gt;8</title>\n<path fill=\"none\" stroke=\"black\" d=\"M295.94,-260.8C308.17,-248.27 324.9,-231.14 338.49,-217.23\"/>\n<polygon fill=\"black\" stroke=\"black\" points=\"341.18,-219.49 345.66,-209.89 336.17,-214.59 341.18,-219.49\"/>\n<text text-anchor=\"middle\" x=\"340.65\" y=\"-231.8\" font-family=\"Times,serif\" font-size=\"14.00\">False</text>\n</g>\n<!-- 4 -->\n<g id=\"node5\" class=\"node\">\n<title>4</title>\n<ellipse fill=\"none\" stroke=\"black\" cx=\"33.15\" cy=\"-105\" rx=\"33.29\" ry=\"18\"/>\n<text text-anchor=\"middle\" x=\"33.15\" y=\"-101.3\" font-family=\"Times,serif\" font-size=\"14.00\">Yes: 3</text>\n</g>\n<!-- 3&#45;&gt;4 -->\n<g id=\"edge2\" class=\"edge\">\n<title>3&#45;&gt;4</title>\n<path fill=\"none\" stroke=\"black\" d=\"M135.66,-174.61C114.53,-160.47 84,-140.04 61.76,-125.15\"/>\n<polygon fill=\"black\" stroke=\"black\" points=\"63.63,-122.19 53.38,-119.54 59.74,-128.01 63.63,-122.19\"/>\n<text text-anchor=\"middle\" x=\"118.15\" y=\"-144.8\" font-family=\"Times,serif\" font-size=\"14.00\">True</text>\n</g>\n<!-- 5 -->\n<g id=\"node6\" class=\"node\">\n<title>5</title>\n<ellipse fill=\"none\" stroke=\"black\" cx=\"193.15\" cy=\"-105\" rx=\"108.58\" ry=\"18\"/>\n<text text-anchor=\"middle\" x=\"193.15\" y=\"-101.3\" font-family=\"Times,serif\" font-size=\"14.00\">Is Temperature in {&#39;Cool&#39;}?</text>\n</g>\n<!-- 3&#45;&gt;5 -->\n<g id=\"edge5\" class=\"edge\">\n<title>3&#45;&gt;5</title>\n<path fill=\"none\" stroke=\"black\" d=\"M166.83,-173.8C171.39,-162.05 177.53,-146.24 182.73,-132.84\"/>\n<polygon fill=\"black\" stroke=\"black\" points=\"186.12,-133.76 186.48,-123.18 179.6,-131.23 186.12,-133.76\"/>\n<text text-anchor=\"middle\" x=\"193.65\" y=\"-144.8\" font-family=\"Times,serif\" font-size=\"14.00\">False</text>\n</g>\n<!-- 6 -->\n<g id=\"node7\" class=\"node\">\n<title>6</title>\n<ellipse fill=\"none\" stroke=\"black\" cx=\"152.15\" cy=\"-18\" rx=\"30.59\" ry=\"18\"/>\n<text text-anchor=\"middle\" x=\"152.15\" y=\"-14.3\" font-family=\"Times,serif\" font-size=\"14.00\">No: 1</text>\n</g>\n<!-- 5&#45;&gt;6 -->\n<g id=\"edge3\" class=\"edge\">\n<title>5&#45;&gt;6</title>\n<path fill=\"none\" stroke=\"black\" d=\"M184.85,-86.8C179.05,-74.78 171.2,-58.51 164.65,-44.92\"/>\n<polygon fill=\"black\" stroke=\"black\" points=\"167.65,-43.08 160.15,-35.6 161.34,-46.12 167.65,-43.08\"/>\n<text text-anchor=\"middle\" x=\"188.15\" y=\"-57.8\" font-family=\"Times,serif\" font-size=\"14.00\">True</text>\n</g>\n<!-- 7 -->\n<g id=\"node8\" class=\"node\">\n<title>7</title>\n<ellipse fill=\"none\" stroke=\"black\" cx=\"234.15\" cy=\"-18\" rx=\"33.29\" ry=\"18\"/>\n<text text-anchor=\"middle\" x=\"234.15\" y=\"-14.3\" font-family=\"Times,serif\" font-size=\"14.00\">Yes: 1</text>\n</g>\n<!-- 5&#45;&gt;7 -->\n<g id=\"edge4\" class=\"edge\">\n<title>5&#45;&gt;7</title>\n<path fill=\"none\" stroke=\"black\" d=\"M201.44,-86.8C207.24,-74.78 215.09,-58.51 221.65,-44.92\"/>\n<polygon fill=\"black\" stroke=\"black\" points=\"224.95,-46.12 226.14,-35.6 218.64,-43.08 224.95,-46.12\"/>\n<text text-anchor=\"middle\" x=\"230.65\" y=\"-57.8\" font-family=\"Times,serif\" font-size=\"14.00\">False</text>\n</g>\n<!-- 9 -->\n<g id=\"node10\" class=\"node\">\n<title>9</title>\n<ellipse fill=\"none\" stroke=\"black\" cx=\"356.15\" cy=\"-105\" rx=\"30.59\" ry=\"18\"/>\n<text text-anchor=\"middle\" x=\"356.15\" y=\"-101.3\" font-family=\"Times,serif\" font-size=\"14.00\">No: 3</text>\n</g>\n<!-- 8&#45;&gt;9 -->\n<g id=\"edge7\" class=\"edge\">\n<title>8&#45;&gt;9</title>\n<path fill=\"none\" stroke=\"black\" d=\"M360.93,-173.8C360.11,-162.16 359.01,-146.55 358.07,-133.24\"/>\n<polygon fill=\"black\" stroke=\"black\" points=\"361.55,-132.9 357.36,-123.18 354.57,-133.4 361.55,-132.9\"/>\n<text text-anchor=\"middle\" x=\"373.15\" y=\"-144.8\" font-family=\"Times,serif\" font-size=\"14.00\">True</text>\n</g>\n<!-- 10 -->\n<g id=\"node11\" class=\"node\">\n<title>10</title>\n<ellipse fill=\"none\" stroke=\"black\" cx=\"490.15\" cy=\"-105\" rx=\"85.59\" ry=\"18\"/>\n<text text-anchor=\"middle\" x=\"490.15\" y=\"-101.3\" font-family=\"Times,serif\" font-size=\"14.00\">Is Wind in {&#39;Weak&#39;}?</text>\n</g>\n<!-- 8&#45;&gt;10 -->\n<g id=\"edge10\" class=\"edge\">\n<title>8&#45;&gt;10</title>\n<path fill=\"none\" stroke=\"black\" d=\"M387.13,-174.41C407.17,-161.1 435.46,-142.31 457.33,-127.79\"/>\n<polygon fill=\"black\" stroke=\"black\" points=\"459.27,-130.71 465.66,-122.26 455.39,-124.88 459.27,-130.71\"/>\n<text text-anchor=\"middle\" x=\"448.65\" y=\"-144.8\" font-family=\"Times,serif\" font-size=\"14.00\">False</text>\n</g>\n<!-- 11 -->\n<g id=\"node12\" class=\"node\">\n<title>11</title>\n<ellipse fill=\"none\" stroke=\"black\" cx=\"449.15\" cy=\"-18\" rx=\"33.29\" ry=\"18\"/>\n<text text-anchor=\"middle\" x=\"449.15\" y=\"-14.3\" font-family=\"Times,serif\" font-size=\"14.00\">Yes: 1</text>\n</g>\n<!-- 10&#45;&gt;11 -->\n<g id=\"edge8\" class=\"edge\">\n<title>10&#45;&gt;11</title>\n<path fill=\"none\" stroke=\"black\" d=\"M481.85,-86.8C476.05,-74.78 468.2,-58.51 461.65,-44.92\"/>\n<polygon fill=\"black\" stroke=\"black\" points=\"464.65,-43.08 457.15,-35.6 458.34,-46.12 464.65,-43.08\"/>\n<text text-anchor=\"middle\" x=\"485.15\" y=\"-57.8\" font-family=\"Times,serif\" font-size=\"14.00\">True</text>\n</g>\n<!-- 12 -->\n<g id=\"node13\" class=\"node\">\n<title>12</title>\n<ellipse fill=\"none\" stroke=\"black\" cx=\"531.15\" cy=\"-18\" rx=\"30.59\" ry=\"18\"/>\n<text text-anchor=\"middle\" x=\"531.15\" y=\"-14.3\" font-family=\"Times,serif\" font-size=\"14.00\">No: 1</text>\n</g>\n<!-- 10&#45;&gt;12 -->\n<g id=\"edge9\" class=\"edge\">\n<title>10&#45;&gt;12</title>\n<path fill=\"none\" stroke=\"black\" d=\"M498.44,-86.8C504.24,-74.78 512.09,-58.51 518.65,-44.92\"/>\n<polygon fill=\"black\" stroke=\"black\" points=\"521.95,-46.12 523.14,-35.6 515.64,-43.08 521.95,-46.12\"/>\n<text text-anchor=\"middle\" x=\"526.65\" y=\"-57.8\" font-family=\"Times,serif\" font-size=\"14.00\">False</text>\n</g>\n</g>\n</svg>\n",
            "text/plain": [
              "<graphviz.graphs.Digraph at 0x7d6626f65dc0>"
            ]
          },
          "metadata": {}
        }
      ]
    },
    {
      "cell_type": "markdown",
      "source": [
        "## EXPERIMENT 8 - C4.5 ALGO"
      ],
      "metadata": {
        "id": "QU_s7d4_xLAy"
      }
    },
    {
      "cell_type": "code",
      "source": [
        "def calculate_entropy(target_col):\n",
        "    elements, counts = np.unique(target_col, return_counts=True)\n",
        "    if len(elements) <= 1:\n",
        "        return 0\n",
        "    entropy = np.sum([(-counts[i]/np.sum(counts)) * np.log2(counts[i]/np.sum(counts)) for i in range(len(elements))])\n",
        "    return entropy\n",
        "\n",
        "def calculate_information_gain(data, split_attribute_name, target_name):\n",
        "    total_entropy = calculate_entropy(data[target_name])\n",
        "    vals, counts = np.unique(data[split_attribute_name], return_counts=True)\n",
        "\n",
        "    weighted_entropy = np.sum([(counts[i]/np.sum(counts)) * calculate_entropy(data.where(data[split_attribute_name]==vals[i]).dropna()[target_name]) for i in range(len(vals))])\n",
        "\n",
        "    information_gain = total_entropy - weighted_entropy\n",
        "    return information_gain"
      ],
      "metadata": {
        "id": "_QiZP_W0xKYO"
      },
      "execution_count": 36,
      "outputs": []
    },
    {
      "cell_type": "code",
      "source": [
        "def calculate_split_info(data, split_attribute_name):\n",
        "    vals, counts = np.unique(data[split_attribute_name], return_counts=True)\n",
        "\n",
        "    # Handle the case of a single value to avoid log2(1)=0 issues if it's the only value\n",
        "    if len(counts) <= 1:\n",
        "        return 1 # Return 1 to not favor single-valued attributes\n",
        "\n",
        "    split_info = np.sum([(-counts[i]/np.sum(counts)) * np.log2(counts[i]/np.sum(counts)) for i in range(len(vals))])\n",
        "    return split_info\n",
        "\n",
        "def calculate_gain_ratio(data, split_attribute_name, target_name):\n",
        "    info_gain = calculate_information_gain(data, split_attribute_name, target_name)\n",
        "    split_info = calculate_split_info(data, split_attribute_name)\n",
        "\n",
        "    # Avoid division by zero\n",
        "    if split_info == 0:\n",
        "        return 0\n",
        "\n",
        "    gain_ratio = info_gain / split_info\n",
        "    return gain_ratio"
      ],
      "metadata": {
        "id": "qYgMX-9DxPO4"
      },
      "execution_count": 37,
      "outputs": []
    },
    {
      "cell_type": "code",
      "source": [
        "def c45(data, original_data, features, target_attribute_name, parent_node_class=None):\n",
        "    # Base case 1: If all target values are the same, return this value\n",
        "    if len(np.unique(data[target_attribute_name])) <= 1:\n",
        "        return np.unique(data[target_attribute_name])[0]\n",
        "\n",
        "    # Base case 2: If the dataset is empty, return the majority class of the original dataset\n",
        "    elif len(data) == 0:\n",
        "        return np.unique(original_data[target_attribute_name])[np.argmax(np.unique(original_data[target_attribute_name], return_counts=True)[1])]\n",
        "\n",
        "    # Base case 3: If the feature space is empty, return the majority class of the parent node\n",
        "    elif len(features) == 0:\n",
        "        return parent_node_class\n",
        "\n",
        "    # If none of the above, construct the tree\n",
        "    else:\n",
        "        # Set the default parent node class to the majority class of the current dataset\n",
        "        parent_node_class = np.unique(data[target_attribute_name])[np.argmax(np.unique(data[target_attribute_name], return_counts=True)[1])]\n",
        "\n",
        "        # Select the feature that best splits the dataset using GAIN RATIO\n",
        "        item_values = [calculate_gain_ratio(data, feature, target_attribute_name) for feature in features]\n",
        "        best_feature_index = np.argmax(item_values)\n",
        "        best_feature = features[best_feature_index]\n",
        "\n",
        "        # Create the tree structure as a dictionary\n",
        "        tree = {best_feature: {}}\n",
        "\n",
        "        # Remove the feature with the best gain ratio from the feature space\n",
        "        features = [i for i in features if i != best_feature]\n",
        "\n",
        "        # Grow a branch for each value in the best feature\n",
        "        for value in np.unique(data[best_feature]):\n",
        "            sub_data = data.where(data[best_feature] == value).dropna()\n",
        "\n",
        "            # Recursive call to c45\n",
        "            subtree = c45(sub_data, data, features, target_attribute_name, parent_node_class)\n",
        "            tree[best_feature][value] = subtree\n",
        "\n",
        "        return tree"
      ],
      "metadata": {
        "id": "c48hfI-3xQuI"
      },
      "execution_count": 38,
      "outputs": []
    },
    {
      "cell_type": "code",
      "source": [
        "import graphviz\n",
        "from IPython.display import display\n",
        "\n",
        "# A counter to create unique node IDs\n",
        "node_counter = 0\n",
        "\n",
        "def add_nodes_edges(tree, dot=None, parent_name=None, edge_label=\"\"):\n",
        "    global node_counter\n",
        "    if dot is None:\n",
        "        dot = graphviz.Digraph()\n",
        "        dot.attr('node', shape='box', style='rounded', fontname='helvetica')\n",
        "        dot.attr('edge', fontname='helvetica')\n",
        "\n",
        "    if isinstance(tree, dict):\n",
        "        # It's a decision node\n",
        "        for key, val in tree.items():\n",
        "            current_node_name = f\"node{node_counter}\"\n",
        "            node_counter += 1\n",
        "            dot.node(current_node_name, label=key)\n",
        "\n",
        "            if parent_name is not None:\n",
        "                dot.edge(parent_name, current_node_name, label=edge_label)\n",
        "\n",
        "            add_nodes_edges(val, dot=dot, parent_name=current_node_name)\n",
        "    else:\n",
        "        # It's a leaf node\n",
        "        current_node_name = f\"node{node_counter}\"\n",
        "        node_counter += 1\n",
        "        dot.node(current_node_name, label=str(tree), shape='ellipse')\n",
        "\n",
        "        if parent_name is not None:\n",
        "            dot.edge(parent_name, current_node_name, label=edge_label)\n",
        "\n",
        "    return dot\n",
        "\n",
        "def visualize_tree(tree):\n",
        "    global node_counter\n",
        "    node_counter = 0 # Reset counter for each new visualization\n",
        "    graph = add_nodes_edges(tree)\n",
        "    return graph"
      ],
      "metadata": {
        "id": "p3-AvYJWxR8g"
      },
      "execution_count": 39,
      "outputs": []
    },
    {
      "cell_type": "code",
      "source": [
        "# --- Training ---\n",
        "features = [col for col in df.columns if col != 'PlayTennis']\n",
        "target = 'PlayTennis'\n",
        "c45_tree = c45(df, df, features, target)\n",
        "\n",
        "# --- Generate the graph object ---\n",
        "c45_graph = visualize_tree(c45_tree)\n",
        "\n",
        "# --- Display the graph in the Colab output ---\n",
        "import pprint\n",
        "print(\"Generated C4.5 Tree (Dictionary Representation):\")\n",
        "pprint.pprint(c45_tree)\n",
        "print(\"\\nC4.5 Decision Tree Visualization:\")\n",
        "display(c45_graph)"
      ],
      "metadata": {
        "colab": {
          "base_uri": "https://localhost:8080/",
          "height": 576
        },
        "id": "6c0pojD3xTi5",
        "outputId": "cfb69316-5f4c-4b28-e49c-4c2c8d7daa3d"
      },
      "execution_count": 40,
      "outputs": [
        {
          "output_type": "stream",
          "name": "stdout",
          "text": [
            "Generated C4.5 Tree (Dictionary Representation):\n",
            "{'Outlook': {'Overcast': 'Yes',\n",
            "             'Rain': {'Wind': {'Strong': 'No', 'Weak': 'Yes'}},\n",
            "             'Sunny': {'Humidity': {'High': 'No', 'Normal': 'Yes'}}}}\n",
            "\n",
            "C4.5 Decision Tree Visualization:\n"
          ]
        },
        {
          "output_type": "display_data",
          "data": {
            "image/svg+xml": "<?xml version=\"1.0\" encoding=\"UTF-8\" standalone=\"no\"?>\n<!DOCTYPE svg PUBLIC \"-//W3C//DTD SVG 1.1//EN\"\n \"http://www.w3.org/Graphics/SVG/1.1/DTD/svg11.dtd\">\n<!-- Generated by graphviz version 2.43.0 (0)\n -->\n<!-- Title: %3 Pages: 1 -->\n<svg width=\"307pt\" height=\"332pt\"\n viewBox=\"0.00 0.00 307.00 332.00\" xmlns=\"http://www.w3.org/2000/svg\" xmlns:xlink=\"http://www.w3.org/1999/xlink\">\n<g id=\"graph0\" class=\"graph\" transform=\"scale(1 1) rotate(0) translate(4 328)\">\n<title>%3</title>\n<polygon fill=\"white\" stroke=\"transparent\" points=\"-4,4 -4,-328 303,-328 303,4 -4,4\"/>\n<!-- node0 -->\n<g id=\"node1\" class=\"node\">\n<title>node0</title>\n<path fill=\"none\" stroke=\"black\" d=\"M136.5,-324C136.5,-324 96.5,-324 96.5,-324 90.5,-324 84.5,-318 84.5,-312 84.5,-312 84.5,-300 84.5,-300 84.5,-294 90.5,-288 96.5,-288 96.5,-288 136.5,-288 136.5,-288 142.5,-288 148.5,-294 148.5,-300 148.5,-300 148.5,-312 148.5,-312 148.5,-318 142.5,-324 136.5,-324\"/>\n<text text-anchor=\"middle\" x=\"116.5\" y=\"-302.3\" font-family=\"Helvetica,sans-Serif\" font-size=\"14.00\">Outlook</text>\n</g>\n<!-- node1 -->\n<g id=\"node2\" class=\"node\">\n<title>node1</title>\n<path fill=\"none\" stroke=\"black\" d=\"M59,-252C59,-252 12,-252 12,-252 6,-252 0,-246 0,-240 0,-240 0,-228 0,-228 0,-222 6,-216 12,-216 12,-216 59,-216 59,-216 65,-216 71,-222 71,-228 71,-228 71,-240 71,-240 71,-246 65,-252 59,-252\"/>\n<text text-anchor=\"middle\" x=\"35.5\" y=\"-230.3\" font-family=\"Helvetica,sans-Serif\" font-size=\"14.00\">Overcast</text>\n</g>\n<!-- node0&#45;&gt;node1 -->\n<g id=\"edge1\" class=\"edge\">\n<title>node0&#45;&gt;node1</title>\n<path fill=\"none\" stroke=\"black\" d=\"M96.48,-287.7C86.37,-278.97 73.96,-268.24 62.98,-258.75\"/>\n<polygon fill=\"black\" stroke=\"black\" points=\"65.15,-255.99 55.29,-252.1 60.57,-261.29 65.15,-255.99\"/>\n</g>\n<!-- node3 -->\n<g id=\"node4\" class=\"node\">\n<title>node3</title>\n<path fill=\"none\" stroke=\"black\" d=\"M131.5,-252C131.5,-252 101.5,-252 101.5,-252 95.5,-252 89.5,-246 89.5,-240 89.5,-240 89.5,-228 89.5,-228 89.5,-222 95.5,-216 101.5,-216 101.5,-216 131.5,-216 131.5,-216 137.5,-216 143.5,-222 143.5,-228 143.5,-228 143.5,-240 143.5,-240 143.5,-246 137.5,-252 131.5,-252\"/>\n<text text-anchor=\"middle\" x=\"116.5\" y=\"-230.3\" font-family=\"Helvetica,sans-Serif\" font-size=\"14.00\">Rain</text>\n</g>\n<!-- node0&#45;&gt;node3 -->\n<g id=\"edge3\" class=\"edge\">\n<title>node0&#45;&gt;node3</title>\n<path fill=\"none\" stroke=\"black\" d=\"M116.5,-287.7C116.5,-279.98 116.5,-270.71 116.5,-262.11\"/>\n<polygon fill=\"black\" stroke=\"black\" points=\"120,-262.1 116.5,-252.1 113,-262.1 120,-262.1\"/>\n</g>\n<!-- node9 -->\n<g id=\"node10\" class=\"node\">\n<title>node9</title>\n<path fill=\"none\" stroke=\"black\" d=\"M208,-252C208,-252 177,-252 177,-252 171,-252 165,-246 165,-240 165,-240 165,-228 165,-228 165,-222 171,-216 177,-216 177,-216 208,-216 208,-216 214,-216 220,-222 220,-228 220,-228 220,-240 220,-240 220,-246 214,-252 208,-252\"/>\n<text text-anchor=\"middle\" x=\"192.5\" y=\"-230.3\" font-family=\"Helvetica,sans-Serif\" font-size=\"14.00\">Sunny</text>\n</g>\n<!-- node0&#45;&gt;node9 -->\n<g id=\"edge9\" class=\"edge\">\n<title>node0&#45;&gt;node9</title>\n<path fill=\"none\" stroke=\"black\" d=\"M135.29,-287.7C144.67,-279.05 156.18,-268.45 166.41,-259.03\"/>\n<polygon fill=\"black\" stroke=\"black\" points=\"168.95,-261.45 173.93,-252.1 164.2,-256.3 168.95,-261.45\"/>\n</g>\n<!-- node2 -->\n<g id=\"node3\" class=\"node\">\n<title>node2</title>\n<ellipse fill=\"none\" stroke=\"black\" cx=\"35.5\" cy=\"-162\" rx=\"27\" ry=\"18\"/>\n<text text-anchor=\"middle\" x=\"35.5\" y=\"-158.3\" font-family=\"Helvetica,sans-Serif\" font-size=\"14.00\">Yes</text>\n</g>\n<!-- node1&#45;&gt;node2 -->\n<g id=\"edge2\" class=\"edge\">\n<title>node1&#45;&gt;node2</title>\n<path fill=\"none\" stroke=\"black\" d=\"M35.5,-215.7C35.5,-207.98 35.5,-198.71 35.5,-190.11\"/>\n<polygon fill=\"black\" stroke=\"black\" points=\"39,-190.1 35.5,-180.1 32,-190.1 39,-190.1\"/>\n</g>\n<!-- node4 -->\n<g id=\"node5\" class=\"node\">\n<title>node4</title>\n<path fill=\"none\" stroke=\"black\" d=\"M129.5,-180C129.5,-180 99.5,-180 99.5,-180 93.5,-180 87.5,-174 87.5,-168 87.5,-168 87.5,-156 87.5,-156 87.5,-150 93.5,-144 99.5,-144 99.5,-144 129.5,-144 129.5,-144 135.5,-144 141.5,-150 141.5,-156 141.5,-156 141.5,-168 141.5,-168 141.5,-174 135.5,-180 129.5,-180\"/>\n<text text-anchor=\"middle\" x=\"114.5\" y=\"-158.3\" font-family=\"Helvetica,sans-Serif\" font-size=\"14.00\">Wind</text>\n</g>\n<!-- node3&#45;&gt;node4 -->\n<g id=\"edge4\" class=\"edge\">\n<title>node3&#45;&gt;node4</title>\n<path fill=\"none\" stroke=\"black\" d=\"M116.01,-215.7C115.79,-207.98 115.52,-198.71 115.27,-190.11\"/>\n<polygon fill=\"black\" stroke=\"black\" points=\"118.77,-190 114.99,-180.1 111.78,-190.2 118.77,-190\"/>\n</g>\n<!-- node5 -->\n<g id=\"node6\" class=\"node\">\n<title>node5</title>\n<path fill=\"none\" stroke=\"black\" d=\"M59.5,-108C59.5,-108 27.5,-108 27.5,-108 21.5,-108 15.5,-102 15.5,-96 15.5,-96 15.5,-84 15.5,-84 15.5,-78 21.5,-72 27.5,-72 27.5,-72 59.5,-72 59.5,-72 65.5,-72 71.5,-78 71.5,-84 71.5,-84 71.5,-96 71.5,-96 71.5,-102 65.5,-108 59.5,-108\"/>\n<text text-anchor=\"middle\" x=\"43.5\" y=\"-86.3\" font-family=\"Helvetica,sans-Serif\" font-size=\"14.00\">Strong</text>\n</g>\n<!-- node4&#45;&gt;node5 -->\n<g id=\"edge5\" class=\"edge\">\n<title>node4&#45;&gt;node5</title>\n<path fill=\"none\" stroke=\"black\" d=\"M96.95,-143.7C88.27,-135.14 77.64,-124.66 68.15,-115.3\"/>\n<polygon fill=\"black\" stroke=\"black\" points=\"70.43,-112.63 60.85,-108.1 65.51,-117.62 70.43,-112.63\"/>\n</g>\n<!-- node7 -->\n<g id=\"node8\" class=\"node\">\n<title>node7</title>\n<path fill=\"none\" stroke=\"black\" d=\"M131.5,-108C131.5,-108 101.5,-108 101.5,-108 95.5,-108 89.5,-102 89.5,-96 89.5,-96 89.5,-84 89.5,-84 89.5,-78 95.5,-72 101.5,-72 101.5,-72 131.5,-72 131.5,-72 137.5,-72 143.5,-78 143.5,-84 143.5,-84 143.5,-96 143.5,-96 143.5,-102 137.5,-108 131.5,-108\"/>\n<text text-anchor=\"middle\" x=\"116.5\" y=\"-86.3\" font-family=\"Helvetica,sans-Serif\" font-size=\"14.00\">Weak</text>\n</g>\n<!-- node4&#45;&gt;node7 -->\n<g id=\"edge7\" class=\"edge\">\n<title>node4&#45;&gt;node7</title>\n<path fill=\"none\" stroke=\"black\" d=\"M114.99,-143.7C115.21,-135.98 115.48,-126.71 115.73,-118.11\"/>\n<polygon fill=\"black\" stroke=\"black\" points=\"119.22,-118.2 116.01,-108.1 112.23,-118 119.22,-118.2\"/>\n</g>\n<!-- node6 -->\n<g id=\"node7\" class=\"node\">\n<title>node6</title>\n<ellipse fill=\"none\" stroke=\"black\" cx=\"43.5\" cy=\"-18\" rx=\"27\" ry=\"18\"/>\n<text text-anchor=\"middle\" x=\"43.5\" y=\"-14.3\" font-family=\"Helvetica,sans-Serif\" font-size=\"14.00\">No</text>\n</g>\n<!-- node5&#45;&gt;node6 -->\n<g id=\"edge6\" class=\"edge\">\n<title>node5&#45;&gt;node6</title>\n<path fill=\"none\" stroke=\"black\" d=\"M43.5,-71.7C43.5,-63.98 43.5,-54.71 43.5,-46.11\"/>\n<polygon fill=\"black\" stroke=\"black\" points=\"47,-46.1 43.5,-36.1 40,-46.1 47,-46.1\"/>\n</g>\n<!-- node8 -->\n<g id=\"node9\" class=\"node\">\n<title>node8</title>\n<ellipse fill=\"none\" stroke=\"black\" cx=\"116.5\" cy=\"-18\" rx=\"27\" ry=\"18\"/>\n<text text-anchor=\"middle\" x=\"116.5\" y=\"-14.3\" font-family=\"Helvetica,sans-Serif\" font-size=\"14.00\">Yes</text>\n</g>\n<!-- node7&#45;&gt;node8 -->\n<g id=\"edge8\" class=\"edge\">\n<title>node7&#45;&gt;node8</title>\n<path fill=\"none\" stroke=\"black\" d=\"M116.5,-71.7C116.5,-63.98 116.5,-54.71 116.5,-46.11\"/>\n<polygon fill=\"black\" stroke=\"black\" points=\"120,-46.1 116.5,-36.1 113,-46.1 120,-46.1\"/>\n</g>\n<!-- node10 -->\n<g id=\"node11\" class=\"node\">\n<title>node10</title>\n<path fill=\"none\" stroke=\"black\" d=\"M217.5,-180C217.5,-180 171.5,-180 171.5,-180 165.5,-180 159.5,-174 159.5,-168 159.5,-168 159.5,-156 159.5,-156 159.5,-150 165.5,-144 171.5,-144 171.5,-144 217.5,-144 217.5,-144 223.5,-144 229.5,-150 229.5,-156 229.5,-156 229.5,-168 229.5,-168 229.5,-174 223.5,-180 217.5,-180\"/>\n<text text-anchor=\"middle\" x=\"194.5\" y=\"-158.3\" font-family=\"Helvetica,sans-Serif\" font-size=\"14.00\">Humidity</text>\n</g>\n<!-- node9&#45;&gt;node10 -->\n<g id=\"edge10\" class=\"edge\">\n<title>node9&#45;&gt;node10</title>\n<path fill=\"none\" stroke=\"black\" d=\"M192.99,-215.7C193.21,-207.98 193.48,-198.71 193.73,-190.11\"/>\n<polygon fill=\"black\" stroke=\"black\" points=\"197.22,-190.2 194.01,-180.1 190.23,-190 197.22,-190.2\"/>\n</g>\n<!-- node11 -->\n<g id=\"node12\" class=\"node\">\n<title>node11</title>\n<path fill=\"none\" stroke=\"black\" d=\"M207.5,-108C207.5,-108 177.5,-108 177.5,-108 171.5,-108 165.5,-102 165.5,-96 165.5,-96 165.5,-84 165.5,-84 165.5,-78 171.5,-72 177.5,-72 177.5,-72 207.5,-72 207.5,-72 213.5,-72 219.5,-78 219.5,-84 219.5,-84 219.5,-96 219.5,-96 219.5,-102 213.5,-108 207.5,-108\"/>\n<text text-anchor=\"middle\" x=\"192.5\" y=\"-86.3\" font-family=\"Helvetica,sans-Serif\" font-size=\"14.00\">High</text>\n</g>\n<!-- node10&#45;&gt;node11 -->\n<g id=\"edge11\" class=\"edge\">\n<title>node10&#45;&gt;node11</title>\n<path fill=\"none\" stroke=\"black\" d=\"M194.01,-143.7C193.79,-135.98 193.52,-126.71 193.27,-118.11\"/>\n<polygon fill=\"black\" stroke=\"black\" points=\"196.77,-118 192.99,-108.1 189.78,-118.2 196.77,-118\"/>\n</g>\n<!-- node13 -->\n<g id=\"node14\" class=\"node\">\n<title>node13</title>\n<path fill=\"none\" stroke=\"black\" d=\"M287,-108C287,-108 250,-108 250,-108 244,-108 238,-102 238,-96 238,-96 238,-84 238,-84 238,-78 244,-72 250,-72 250,-72 287,-72 287,-72 293,-72 299,-78 299,-84 299,-84 299,-96 299,-96 299,-102 293,-108 287,-108\"/>\n<text text-anchor=\"middle\" x=\"268.5\" y=\"-86.3\" font-family=\"Helvetica,sans-Serif\" font-size=\"14.00\">Normal</text>\n</g>\n<!-- node10&#45;&gt;node13 -->\n<g id=\"edge13\" class=\"edge\">\n<title>node10&#45;&gt;node13</title>\n<path fill=\"none\" stroke=\"black\" d=\"M212.79,-143.7C221.93,-135.05 233.14,-124.45 243.1,-115.03\"/>\n<polygon fill=\"black\" stroke=\"black\" points=\"245.56,-117.52 250.42,-108.1 240.75,-112.43 245.56,-117.52\"/>\n</g>\n<!-- node12 -->\n<g id=\"node13\" class=\"node\">\n<title>node12</title>\n<ellipse fill=\"none\" stroke=\"black\" cx=\"192.5\" cy=\"-18\" rx=\"27\" ry=\"18\"/>\n<text text-anchor=\"middle\" x=\"192.5\" y=\"-14.3\" font-family=\"Helvetica,sans-Serif\" font-size=\"14.00\">No</text>\n</g>\n<!-- node11&#45;&gt;node12 -->\n<g id=\"edge12\" class=\"edge\">\n<title>node11&#45;&gt;node12</title>\n<path fill=\"none\" stroke=\"black\" d=\"M192.5,-71.7C192.5,-63.98 192.5,-54.71 192.5,-46.11\"/>\n<polygon fill=\"black\" stroke=\"black\" points=\"196,-46.1 192.5,-36.1 189,-46.1 196,-46.1\"/>\n</g>\n<!-- node14 -->\n<g id=\"node15\" class=\"node\">\n<title>node14</title>\n<ellipse fill=\"none\" stroke=\"black\" cx=\"268.5\" cy=\"-18\" rx=\"27\" ry=\"18\"/>\n<text text-anchor=\"middle\" x=\"268.5\" y=\"-14.3\" font-family=\"Helvetica,sans-Serif\" font-size=\"14.00\">Yes</text>\n</g>\n<!-- node13&#45;&gt;node14 -->\n<g id=\"edge14\" class=\"edge\">\n<title>node13&#45;&gt;node14</title>\n<path fill=\"none\" stroke=\"black\" d=\"M268.5,-71.7C268.5,-63.98 268.5,-54.71 268.5,-46.11\"/>\n<polygon fill=\"black\" stroke=\"black\" points=\"272,-46.1 268.5,-36.1 265,-46.1 272,-46.1\"/>\n</g>\n</g>\n</svg>\n",
            "text/plain": [
              "<graphviz.graphs.Digraph at 0x7d663588f9e0>"
            ]
          },
          "metadata": {}
        }
      ]
    },
    {
      "cell_type": "code",
      "source": [],
      "metadata": {
        "id": "O0KY8VJcxUwQ"
      },
      "execution_count": null,
      "outputs": []
    }
  ]
}